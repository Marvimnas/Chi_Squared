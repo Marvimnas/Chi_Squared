{
  "nbformat": 4,
  "nbformat_minor": 0,
  "metadata": {
    "colab": {
      "provenance": [],
      "authorship_tag": "ABX9TyPe1WUGZjjW3xmhLkw0Dw4k",
      "include_colab_link": true
    },
    "kernelspec": {
      "name": "python3",
      "display_name": "Python 3"
    },
    "language_info": {
      "name": "python"
    }
  },
  "cells": [
    {
      "cell_type": "markdown",
      "metadata": {
        "id": "view-in-github",
        "colab_type": "text"
      },
      "source": [
        "<a href=\"https://colab.research.google.com/github/Marvimnas/Chi_Squared/blob/main/Teste_Qui_Quadrado.ipynb\" target=\"_parent\"><img src=\"https://colab.research.google.com/assets/colab-badge.svg\" alt=\"Open In Colab\"/></a>"
      ]
    },
    {
      "cell_type": "code",
      "execution_count": null,
      "metadata": {
        "id": "6HFvwumeTtP-"
      },
      "outputs": [],
      "source": [
        "import pandas as pd\n",
        "from scipy.stats import chi2_contingency"
      ]
    },
    {
      "cell_type": "code",
      "source": [
        "from google.colab import drive"
      ],
      "metadata": {
        "id": "qgsGRZGRT3qW"
      },
      "execution_count": null,
      "outputs": []
    },
    {
      "cell_type": "code",
      "source": [
        "drive.mount('/content/drive')"
      ],
      "metadata": {
        "id": "I_0_IpsHT9jo"
      },
      "execution_count": null,
      "outputs": []
    },
    {
      "cell_type": "code",
      "source": [
        "caminho = '/content/drive/My Drive/Data/Base-QuiQuadrado.txt'\n",
        "df = pd.read_csv(caminho)\n",
        "df.info()"
      ],
      "metadata": {
        "id": "tkgT9N4qUCpN"
      },
      "execution_count": null,
      "outputs": []
    },
    {
      "cell_type": "code",
      "source": [
        "observado = pd.crosstab(df['Turno'], df['Conforme ou não conforme'])\n",
        "print(observado)"
      ],
      "metadata": {
        "id": "dcN8P_L2U1QE"
      },
      "execution_count": null,
      "outputs": []
    },
    {
      "cell_type": "code",
      "source": [
        "chi2, p, dof, expected = chi2_contingency(observado)"
      ],
      "metadata": {
        "id": "ie8O_Ty9Vne9"
      },
      "execution_count": null,
      "outputs": []
    },
    {
      "cell_type": "code",
      "source": [
        "print(\"Tabela de contingência:\")\n",
        "print(observado)\n",
        "print(\"\\nEstatística qui-quadrado:\", round(chi2, 2))\n",
        "print(\"Valor-p:\", round(p, 2))\n",
        "print(\"Graus de liberdade:\", dof)\n",
        "print(\"\\nFrequências esperadas:\")\n",
        "print(pd.DataFrame(expected, index=observado.index, columns=observado.columns))"
      ],
      "metadata": {
        "id": "P8vin9H3WtYe"
      },
      "execution_count": null,
      "outputs": []
    }
  ]
}